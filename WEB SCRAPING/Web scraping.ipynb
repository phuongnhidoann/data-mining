{
 "cells": [
  {
   "cell_type": "code",
   "execution_count": 2,
   "id": "0799269c-0456-413c-b6f4-3f90d4b50e6a",
   "metadata": {},
   "outputs": [
    {
     "name": "stdin",
     "output_type": "stream",
     "text": [
      "Nhập mã chứng khoán:  CTR\n"
     ]
    }
   ],
   "source": [
    "#pip install --upgrade selenium\n",
    "from selenium import webdriver\n",
    "from selenium.webdriver.common.by import By\n",
    "from selenium.webdriver.support.ui import WebDriverWait\n",
    "from selenium.webdriver.support import expected_conditions as EC\n",
    "from bs4 import BeautifulSoup\n",
    "import requests\n",
    "import pandas as pd\n",
    "\n",
    "url_home = 'https://s.cafef.vn/'\n",
    "\n",
    "def scrape_article_details(link):\n",
    "    article_response = requests.get(link)\n",
    "    if article_response.status_code == 200:\n",
    "        article_soup = BeautifulSoup(article_response.text, \"html.parser\")\n",
    "        excerpts = article_soup.find(\"h2\", {'class': \"intro\"})\n",
    "        return excerpts.text.strip() if excerpts else None\n",
    "    return None\n",
    "\n",
    "def scrape_page_selenium(stock_code_input):\n",
    "    options = webdriver.ChromeOptions()\n",
    "    options.add_argument('--headless')  # Run Chrome in headless mode (no GUI)\n",
    "    \n",
    "    with webdriver.Chrome(options=options) as driver:\n",
    "        url_template = f\"https://s.cafef.vn/tin-doanh-nghiep/{stock_code_input}/event.chn\"\n",
    "        driver.get(url_template)\n",
    "        news_data = []\n",
    "        while True:\n",
    "            WebDriverWait(driver, 10).until(EC.presence_of_element_located((By.ID, \"divTopEvents\")))\n",
    "            soup = BeautifulSoup(driver.page_source, \"html.parser\")\n",
    "            container = soup.find(\"div\", {\"id\": \"divTopEvents\"})\n",
    "            articles_list = container.find_all(\"li\")\n",
    "            if not articles_list:\n",
    "                break\n",
    "            for article in articles_list:\n",
    "                title = article.find('a', class_='docnhanhTitle').text.strip()\n",
    "                time = article.find('span', class_='timeTitle').text.strip()\n",
    "                link = article.find('a', class_='docnhanhTitle')['href']\n",
    "                full_link = url_home + link\n",
    "                excerpts = scrape_article_details(full_link)\n",
    "\n",
    "                news_data.append({\n",
    "                    'Tiêu đề': title,\n",
    "                    'Thời gian': time,\n",
    "                    'Link': full_link,\n",
    "                    'Nội dung chính': excerpts\n",
    "                })\n",
    "\n",
    "            try:\n",
    "                next_button = driver.find_element(By.ID, \"spanNext\")\n",
    "                if \"disabled\" in next_button.get_attribute(\"class\"):\n",
    "                    break\n",
    "                else:\n",
    "                    next_button.click()\n",
    "            except:\n",
    "                break\n",
    "\n",
    "    df = pd.DataFrame(news_data)\n",
    "    df.to_excel(f'Data_{stock_code_input}.xlsx', index=False)\n",
    "\n",
    "# Nhập mã chứng khoán từ người dùng\n",
    "stock_code_input = input(\"Nhập mã chứng khoán: \").upper()\n",
    "scrape_page_selenium(stock_code_input)"
   ]
  },
  {
   "cell_type": "code",
   "execution_count": null,
   "id": "afd26150-c4f7-44f5-a4ec-9055fe4eafd4",
   "metadata": {},
   "outputs": [],
   "source": []
  }
 ],
 "metadata": {
  "kernelspec": {
   "display_name": "Python 3 (ipykernel)",
   "language": "python",
   "name": "python3"
  },
  "language_info": {
   "codemirror_mode": {
    "name": "ipython",
    "version": 3
   },
   "file_extension": ".py",
   "mimetype": "text/x-python",
   "name": "python",
   "nbconvert_exporter": "python",
   "pygments_lexer": "ipython3",
   "version": "3.12.4"
  }
 },
 "nbformat": 4,
 "nbformat_minor": 5
}
